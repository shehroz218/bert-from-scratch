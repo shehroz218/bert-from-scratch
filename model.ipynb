{
 "cells": [
  {
   "cell_type": "code",
   "execution_count": 6,
   "metadata": {},
   "outputs": [],
   "source": [
    "import torch\n",
    "import torch.nn as nn\n",
    "from argparse import Namespace\n"
   ]
  },
  {
   "cell_type": "code",
   "execution_count": 7,
   "metadata": {},
   "outputs": [],
   "source": [
    "args = Namespace(\n",
    "    \n",
    "    VOCAB_SIZE = 30000,\n",
    "    N_SEGMENTS = 3,\n",
    "    MAX_LEN = 512,\n",
    "    EMBED_DIM = 768,\n",
    "    N_LAYERS = 12,\n",
    "    ATTN_HEADS = 12,\n",
    "    DROPOUT = 0.1,\n",
    "    # Data and path information\n",
    "    frequency_cutoff=25,\n",
    "    model_state_file='model.pth', review_csv='data/yelp/reviews_with_splits_lite.csv', save_dir='model_storage/ch3/yelp/', vectorizer_file='vectorizer.json',\n",
    "    # No model hyperparameters\n",
    "    # Training hyperparameters\n",
    "    batch_size=128,\n",
    "    early_stopping_criteria=5,\n",
    "    learning_rate=0.001,\n",
    "    num_epochs=100,\n",
    "    seed=1337,\n",
    "    # Runtime options omitted for space\n",
    ")"
   ]
  },
  {
   "cell_type": "code",
   "execution_count": null,
   "metadata": {},
   "outputs": [],
   "source": []
  },
  {
   "cell_type": "markdown",
   "metadata": {},
   "source": [
    "### Embeddings"
   ]
  },
  {
   "cell_type": "code",
   "execution_count": 14,
   "metadata": {},
   "outputs": [],
   "source": [
    "class BERTEmbedding(nn.Module):\n",
    "    def __init__(self,\n",
    "                 vocab_size,\n",
    "                 n_segments,\n",
    "                 max_len,\n",
    "                 embed_dim,\n",
    "                 dropout):\n",
    "        super().__init__()\n",
    "        self.tok_embed = nn.Embedding(vocab_size, embed_dim)\n",
    "        self.seg_embed = nn.Embedding(n_segments, embed_dim)\n",
    "        self.pos_embed = nn.Embedding(max_len, embed_dim)\n",
    "\n",
    "        self.drop = nn.Dropout(dropout)\n",
    "        self.pos_inp = torch.tensor([i for i in range(max_len)],)\n",
    "\n",
    "    def forward(self, seq, seg):\n",
    "        embed_val = self.tok_embed(seq) + self.seg_embed(seg) + self.pos_embed(self.pos_inp)\n",
    "        return self.drop(embed_val)\n",
    "    \n",
    "class BERT(nn.Module):\n",
    "    def __init__(self,\n",
    "                 vocab_size,\n",
    "                 n_segments,\n",
    "                 max_len,\n",
    "                 embed_dim,\n",
    "                 n_layers,\n",
    "                 attn_heads,\n",
    "                 dropout):\n",
    "        super().__init__()\n",
    "        self.embedding = BERTEmbedding(vocab_size, n_segments, max_len, embed_dim, dropout)\n",
    "        self.enc_layer = nn.TransformerEncoderLayer(embed_dim, attn_heads, embed_dim*4)\n",
    "        self.enc_block = nn.TransformerEncoder(self.enc_layer, n_layers)\n",
    "    \n",
    "    def forward(self, seq, seg):\n",
    "        embed_val = self.embedding(seq, seg)\n",
    "        return self.enc_block(embed_val)\n",
    "        "
   ]
  },
  {
   "cell_type": "code",
   "execution_count": 15,
   "metadata": {},
   "outputs": [
    {
     "name": "stdout",
     "output_type": "stream",
     "text": [
      "torch.Size([512, 768])\n"
     ]
    },
    {
     "name": "stderr",
     "output_type": "stream",
     "text": [
      "/Users/shehrozsohail/Codes/Environments/bert-env/lib/python3.11/site-packages/torch/nn/modules/transformer.py:286: UserWarning: enable_nested_tensor is True, but self.use_nested_tensor is False because encoder_layer.self_attn.batch_first was not True(use batch_first for better inference performance)\n",
      "  warnings.warn(f\"enable_nested_tensor is True, but self.use_nested_tensor is False because {why_not_sparsity_fast_path}\")\n"
     ]
    },
    {
     "name": "stdout",
     "output_type": "stream",
     "text": [
      "torch.Size([512, 768])\n"
     ]
    }
   ],
   "source": [
    "sample_seq = torch.randint(high = args.VOCAB_SIZE, size = [args.MAX_LEN,])\n",
    "sample_seg = torch.randint(high = args.N_SEGMENTS, size = [args.MAX_LEN,])\n",
    "\n",
    "embedding = BERTEmbedding(args.VOCAB_SIZE, args.N_SEGMENTS, args.MAX_LEN, args.EMBED_DIM, args.DROPOUT)\n",
    "embedding_tensor = embedding(sample_seq, sample_seg)\n",
    "print(embedding_tensor.shape)  # [512, 768] -> [max_len, embed_dim]\n",
    "\n",
    "bert = BERT(args.VOCAB_SIZE, args.N_SEGMENTS, args.MAX_LEN, args.EMBED_DIM, args.N_LAYERS, args.ATTN_HEADS, args.DROPOUT)\n",
    "out = bert(sample_seq, sample_seg)\n",
    "print(out.shape)  # [512, 768] -> [max_len, embed_dim]"
   ]
  },
  {
   "cell_type": "markdown",
   "metadata": {},
   "source": [
    "# BERT MODEL"
   ]
  },
  {
   "cell_type": "code",
   "execution_count": null,
   "metadata": {},
   "outputs": [],
   "source": [
    "import torch\n",
    "import torch.nn as nn\n",
    "from embed import BERTEmbedding, PositionalEmbeddings\n",
    "from encoder import MultiHeadedAttention, FeedForward, EncoderLayer\n",
    "\n",
    "class BERT(nn.Moduel):\n",
    "    def __init__(self, \n",
    "                vocab_size, \n",
    "                d_in=768, \n",
    "                n_layers=12, \n",
    "                n_heads=12, \n",
    "                dropout=0.1):\n",
    "        super().__init__()\n",
    "\n",
    "        self.d_in = d_in\n",
    "        self.n_layers = n_layers\n",
    "        self.heads = n_heads\n",
    "\n",
    "        #paper has 4*hidden_size for ff_hidden_size\n",
    "        self.feed_forward_hidden = 4*d_in\n",
    "\n",
    "        self.embedding = BERTEmbedding(vocab_size, d_in)\n",
    "\n",
    "        #multi attention\n",
    "        self.encoder_block = nn.ModuleList(\n",
    "            [EncoderLayer(d_in, n_heads, d_in*4, dropout) for _ in range(n_layers)]\n",
    "        )\n",
    "    \n",
    "    def forward(self, x, segment_info):\n",
    "        mask = (x>0).unsqueeze(1).repeat(1, x.size(1), 1).unsqueeze(1)\n",
    "\n",
    "        x = self.embedding(x, segment_info)\n",
    "\n",
    "        for layer in self.encoder_block:\n",
    "            x = layer(x, mask)\n",
    "        return x\n",
    "    \n"
   ]
  }
 ],
 "metadata": {
  "kernelspec": {
   "display_name": "bert-env",
   "language": "python",
   "name": "bert-env"
  },
  "language_info": {
   "codemirror_mode": {
    "name": "ipython",
    "version": 3
   },
   "file_extension": ".py",
   "mimetype": "text/x-python",
   "name": "python",
   "nbconvert_exporter": "python",
   "pygments_lexer": "ipython3",
   "version": "3.11.4"
  }
 },
 "nbformat": 4,
 "nbformat_minor": 2
}
